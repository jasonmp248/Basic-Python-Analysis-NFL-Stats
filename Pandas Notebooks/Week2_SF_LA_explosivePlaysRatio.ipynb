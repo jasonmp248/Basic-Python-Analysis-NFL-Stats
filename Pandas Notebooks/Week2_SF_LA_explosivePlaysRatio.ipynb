{
  "nbformat": 4,
  "nbformat_minor": 0,
  "metadata": {
    "colab": {
      "provenance": [],
      "authorship_tag": "ABX9TyP5UP7cXJRCyo0gQ+UQU3qG"
    },
    "kernelspec": {
      "name": "python3",
      "display_name": "Python 3"
    },
    "language_info": {
      "name": "python"
    }
  },
  "cells": [
    {
      "cell_type": "code",
      "execution_count": null,
      "metadata": {
        "id": "GgPDt3VP06Tb"
      },
      "outputs": [],
      "source": [
        "pip install nfl_data_py"
      ]
    },
    {
      "cell_type": "code",
      "source": [
        "import pandas as pd\n",
        "import nfl_data_py as nfl\n",
        "import numpy as np"
      ],
      "metadata": {
        "id": "G9Yfv_QM0_9A"
      },
      "execution_count": 100,
      "outputs": []
    },
    {
      "cell_type": "code",
      "source": [
        "all_df = nfl.import_pbp_data([2023])"
      ],
      "metadata": {
        "id": "VJGaqWG21F78"
      },
      "execution_count": null,
      "outputs": []
    },
    {
      "cell_type": "code",
      "source": [
        "pd.set_option('display.max_columns', None)"
      ],
      "metadata": {
        "id": "x-FMItxL2vHh"
      },
      "execution_count": 102,
      "outputs": []
    },
    {
      "cell_type": "code",
      "source": [
        "list(all_df['game_id'].unique())\n",
        "# 49ers = SF"
      ],
      "metadata": {
        "id": "je0Rf6ii1L0U"
      },
      "execution_count": null,
      "outputs": []
    },
    {
      "cell_type": "code",
      "source": [
        "all_sf_games = all_df[all_df['game_id'].str.contains('SF')]"
      ],
      "metadata": {
        "id": "jRBw5E_w1ueE"
      },
      "execution_count": 104,
      "outputs": []
    },
    {
      "cell_type": "code",
      "source": [
        "list(all_sf_games['game_id'].unique())"
      ],
      "metadata": {
        "colab": {
          "base_uri": "https://localhost:8080/"
        },
        "id": "WVJspw0l1443",
        "outputId": "8d96c62f-e0e7-4ae9-d2fa-c74c740982c8"
      },
      "execution_count": 105,
      "outputs": [
        {
          "output_type": "execute_result",
          "data": {
            "text/plain": [
              "['2023_01_SF_PIT', '2023_02_SF_LA', '2023_03_NYG_SF', '2023_04_ARI_SF']"
            ]
          },
          "metadata": {},
          "execution_count": 105
        }
      ]
    },
    {
      "cell_type": "code",
      "source": [
        "df = all_sf_games.loc[(all_sf_games['game_id'] == '2023_02_SF_LA')]"
      ],
      "metadata": {
        "id": "Q8QO1Jl_2DRk"
      },
      "execution_count": 106,
      "outputs": []
    },
    {
      "cell_type": "code",
      "source": [
        "##filtering down our dataset\n",
        "df = df.loc[(df['posteam'] == 'SF') & (df['play_type'] == 'run') | (df['play_type'] == 'pass'), ['play_id', 'game_half', 'play_type', 'yards_gained', 'air_yards', 'yards_after_catch']]"
      ],
      "metadata": {
        "id": "Cp5aCnT02Og1"
      },
      "execution_count": 108,
      "outputs": []
    },
    {
      "cell_type": "code",
      "source": [
        "count_all_plays = df.shape[0]"
      ],
      "metadata": {
        "id": "ERNYcrF98ocC"
      },
      "execution_count": 114,
      "outputs": []
    },
    {
      "cell_type": "code",
      "source": [
        "## sorting practice:\n",
        "df.sort_values(by='yards_gained', ascending=False)"
      ],
      "metadata": {
        "id": "UTK3jA9m2S9D"
      },
      "execution_count": null,
      "outputs": []
    },
    {
      "cell_type": "code",
      "source": [
        "df['air_yards'] = df['air_yards'].fillna(0)\n",
        "df['yards_after_catch'] = df['yards_after_catch'].fillna(0)\n",
        "df.sort_values(by='yards_gained', ascending=False)"
      ],
      "metadata": {
        "id": "xfRqhSrc4fQE"
      },
      "execution_count": null,
      "outputs": []
    },
    {
      "cell_type": "code",
      "source": [
        "## 10 most explosive plays -> >20 yards passing | >10 yards rushing\n",
        "df_expl = df.loc[((df['yards_gained'] > 20) & (df['play_type'] == 'pass')) | ((df['yards_gained'] > 10) & (df['play_type'] == 'run'))].sort_values(by='yards_gained', ascending = False)"
      ],
      "metadata": {
        "id": "VeBXECVT5JAU"
      },
      "execution_count": 73,
      "outputs": []
    },
    {
      "cell_type": "code",
      "source": [
        "#ratio explosive plays / total plays for SF\n",
        "\n",
        "\n",
        "expl_plays = np.sum(df_expl['game_half'] == 'Half1')\n",
        "expl_plays_ratio = expl_plays / count_all_plays\n",
        "expl_plays_ratio * 100"
      ],
      "metadata": {
        "colab": {
          "base_uri": "https://localhost:8080/"
        },
        "id": "ylKxqplL5r3r",
        "outputId": "0f331a49-976a-48f7-cf0a-ab30ba16628e"
      },
      "execution_count": 117,
      "outputs": [
        {
          "output_type": "execute_result",
          "data": {
            "text/plain": [
              "3.669724770642202"
            ]
          },
          "metadata": {},
          "execution_count": 117
        }
      ]
    }
  ]
}
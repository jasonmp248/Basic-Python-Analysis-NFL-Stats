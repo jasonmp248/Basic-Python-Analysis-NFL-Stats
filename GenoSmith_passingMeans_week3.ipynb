{
  "nbformat": 4,
  "nbformat_minor": 0,
  "metadata": {
    "colab": {
      "provenance": [],
      "authorship_tag": "ABX9TyOcB/BIRqFsmT5AksAam2or"
    },
    "kernelspec": {
      "name": "python3",
      "display_name": "Python 3"
    },
    "language_info": {
      "name": "python"
    }
  },
  "cells": [
    {
      "cell_type": "code",
      "execution_count": 1,
      "metadata": {
        "id": "f1F7dnkbvc2d",
        "colab": {
          "base_uri": "https://localhost:8080/"
        },
        "outputId": "dc208e4c-0c95-476a-f4e7-889cc3cecbc2"
      },
      "outputs": [
        {
          "output_type": "stream",
          "name": "stdout",
          "text": [
            "Collecting nfl_data_py\n",
            "  Downloading nfl_data_py-0.3.1.tar.gz (16 kB)\n",
            "  Preparing metadata (setup.py) ... \u001b[?25l\u001b[?25hdone\n",
            "Requirement already satisfied: pandas>1 in /usr/local/lib/python3.10/dist-packages (from nfl_data_py) (1.5.3)\n",
            "Requirement already satisfied: appdirs>1 in /usr/local/lib/python3.10/dist-packages (from nfl_data_py) (1.4.4)\n",
            "Collecting fastparquet>0.5 (from nfl_data_py)\n",
            "  Downloading fastparquet-2023.8.0-cp310-cp310-manylinux_2_17_x86_64.manylinux2014_x86_64.whl (1.7 MB)\n",
            "\u001b[2K     \u001b[90m━━━━━━━━━━━━━━━━━━━━━━━━━━━━━━━━━━━━━━━━\u001b[0m \u001b[32m1.7/1.7 MB\u001b[0m \u001b[31m12.0 MB/s\u001b[0m eta \u001b[36m0:00:00\u001b[0m\n",
            "\u001b[?25hCollecting python-snappy>0.5 (from nfl_data_py)\n",
            "  Downloading python_snappy-0.6.1-cp310-cp310-manylinux_2_12_x86_64.manylinux2010_x86_64.whl (55 kB)\n",
            "\u001b[2K     \u001b[90m━━━━━━━━━━━━━━━━━━━━━━━━━━━━━━━━━━━━━━━━\u001b[0m \u001b[32m55.9/55.9 kB\u001b[0m \u001b[31m6.3 MB/s\u001b[0m eta \u001b[36m0:00:00\u001b[0m\n",
            "\u001b[?25hRequirement already satisfied: numpy>=1.20.3 in /usr/local/lib/python3.10/dist-packages (from fastparquet>0.5->nfl_data_py) (1.23.5)\n",
            "Collecting cramjam>=2.3 (from fastparquet>0.5->nfl_data_py)\n",
            "  Downloading cramjam-2.7.0-cp310-cp310-manylinux_2_17_x86_64.manylinux2014_x86_64.whl (1.6 MB)\n",
            "\u001b[2K     \u001b[90m━━━━━━━━━━━━━━━━━━━━━━━━━━━━━━━━━━━━━━━━\u001b[0m \u001b[32m1.6/1.6 MB\u001b[0m \u001b[31m79.5 MB/s\u001b[0m eta \u001b[36m0:00:00\u001b[0m\n",
            "\u001b[?25hRequirement already satisfied: fsspec in /usr/local/lib/python3.10/dist-packages (from fastparquet>0.5->nfl_data_py) (2023.6.0)\n",
            "Requirement already satisfied: packaging in /usr/local/lib/python3.10/dist-packages (from fastparquet>0.5->nfl_data_py) (23.1)\n",
            "Requirement already satisfied: python-dateutil>=2.8.1 in /usr/local/lib/python3.10/dist-packages (from pandas>1->nfl_data_py) (2.8.2)\n",
            "Requirement already satisfied: pytz>=2020.1 in /usr/local/lib/python3.10/dist-packages (from pandas>1->nfl_data_py) (2023.3.post1)\n",
            "Requirement already satisfied: six>=1.5 in /usr/local/lib/python3.10/dist-packages (from python-dateutil>=2.8.1->pandas>1->nfl_data_py) (1.16.0)\n",
            "Building wheels for collected packages: nfl_data_py\n",
            "  Building wheel for nfl_data_py (setup.py) ... \u001b[?25l\u001b[?25hdone\n",
            "  Created wheel for nfl_data_py: filename=nfl_data_py-0.3.1-py3-none-any.whl size=13187 sha256=7f81c3cd0da5bcdd91f1d7067e0ebb6f609b4291125de8ca96c7b2dd46f49a26\n",
            "  Stored in directory: /root/.cache/pip/wheels/ca/2e/d2/4def312ac7c070e1c0002e91ecc6923481a86c3ebd5b2c5413\n",
            "Successfully built nfl_data_py\n",
            "Installing collected packages: python-snappy, cramjam, fastparquet, nfl_data_py\n",
            "Successfully installed cramjam-2.7.0 fastparquet-2023.8.0 nfl_data_py-0.3.1 python-snappy-0.6.1\n"
          ]
        }
      ],
      "source": [
        "pip install nfl_data_py"
      ]
    },
    {
      "cell_type": "code",
      "source": [
        "import nfl_data_py as nfl\n",
        "import pandas as pd"
      ],
      "metadata": {
        "id": "UDod3IDgvkH5"
      },
      "execution_count": 2,
      "outputs": []
    },
    {
      "cell_type": "code",
      "source": [
        "df = nfl.import_pbp_data([2023])\n",
        "#df"
      ],
      "metadata": {
        "id": "6SwY9wTcvqjy",
        "colab": {
          "base_uri": "https://localhost:8080/"
        },
        "outputId": "dbcdbc42-60d6-4128-8a29-c2d5e266a1ac"
      },
      "execution_count": 3,
      "outputs": [
        {
          "output_type": "stream",
          "name": "stdout",
          "text": [
            "2023 done.\n",
            "Downcasting floats.\n"
          ]
        }
      ]
    },
    {
      "cell_type": "code",
      "source": [
        "#df['game_id'].value_counts() <- let's not do this anymore...\n",
        "list(df['game_id'].unique()) #<- SELECT DISTINCT game_id ..\n"
      ],
      "metadata": {
        "id": "CnIHS8H2v_Rt",
        "colab": {
          "base_uri": "https://localhost:8080/"
        },
        "outputId": "5c26bb68-cef4-4564-ee99-702f4ed88d21"
      },
      "execution_count": 4,
      "outputs": [
        {
          "output_type": "execute_result",
          "data": {
            "text/plain": [
              "['2023_01_ARI_WAS',\n",
              " '2023_01_BUF_NYJ',\n",
              " '2023_01_CAR_ATL',\n",
              " '2023_01_CIN_CLE',\n",
              " '2023_01_DAL_NYG',\n",
              " '2023_01_DET_KC',\n",
              " '2023_01_GB_CHI',\n",
              " '2023_01_HOU_BAL',\n",
              " '2023_01_JAX_IND',\n",
              " '2023_01_LA_SEA',\n",
              " '2023_01_LV_DEN',\n",
              " '2023_01_MIA_LAC',\n",
              " '2023_01_PHI_NE',\n",
              " '2023_01_SF_PIT',\n",
              " '2023_01_TB_MIN',\n",
              " '2023_01_TEN_NO',\n",
              " '2023_02_BAL_CIN',\n",
              " '2023_02_CHI_TB',\n",
              " '2023_02_CLE_PIT',\n",
              " '2023_02_GB_ATL',\n",
              " '2023_02_IND_HOU',\n",
              " '2023_02_KC_JAX',\n",
              " '2023_02_LAC_TEN',\n",
              " '2023_02_LV_BUF',\n",
              " '2023_02_MIA_NE',\n",
              " '2023_02_MIN_PHI',\n",
              " '2023_02_NO_CAR',\n",
              " '2023_02_NYG_ARI',\n",
              " '2023_02_NYJ_DAL',\n",
              " '2023_02_SEA_DET',\n",
              " '2023_02_SF_LA',\n",
              " '2023_02_WAS_DEN',\n",
              " '2023_03_ATL_DET',\n",
              " '2023_03_BUF_WAS',\n",
              " '2023_03_CAR_SEA',\n",
              " '2023_03_CHI_KC',\n",
              " '2023_03_DAL_ARI',\n",
              " '2023_03_DEN_MIA',\n",
              " '2023_03_HOU_JAX',\n",
              " '2023_03_IND_BAL',\n",
              " '2023_03_LAC_MIN',\n",
              " '2023_03_LA_CIN',\n",
              " '2023_03_NE_NYJ',\n",
              " '2023_03_NO_GB',\n",
              " '2023_03_NYG_SF',\n",
              " '2023_03_PHI_TB',\n",
              " '2023_03_PIT_LV',\n",
              " '2023_03_TEN_CLE',\n",
              " '2023_04_DET_GB']"
            ]
          },
          "metadata": {},
          "execution_count": 4
        }
      ]
    },
    {
      "cell_type": "code",
      "source": [
        "car_vs_sea = df.loc[df['game_id'] == '2023_03_CAR_SEA']"
      ],
      "metadata": {
        "id": "ve24yaUxwPOc"
      },
      "execution_count": 5,
      "outputs": []
    },
    {
      "cell_type": "code",
      "source": [
        "list(car_vs_sea['game_half'].unique())\n",
        "\n",
        "first_half = car_vs_sea.loc[car_vs_sea['game_half'] == 'Half1']\n",
        "second_half = car_vs_sea.loc[car_vs_sea['game_half'] == 'Half2']"
      ],
      "metadata": {
        "id": "9k_0NHI1yBXd"
      },
      "execution_count": 6,
      "outputs": []
    },
    {
      "cell_type": "code",
      "source": [
        "## columns we are interested in:\n",
        "\n",
        "#shotgun ; flag\n",
        "#play_type ;\n",
        "#passer\n",
        "#posteam = offense; defteam = defense\n",
        "#yards_gained\n"
      ],
      "metadata": {
        "id": "PcOxVrSUwcRi"
      },
      "execution_count": null,
      "outputs": []
    },
    {
      "cell_type": "code",
      "source": [],
      "metadata": {
        "id": "ACJM4Vno0KlG"
      },
      "execution_count": null,
      "outputs": []
    },
    {
      "cell_type": "code",
      "source": [
        "sea_first_half = first_half.loc[first_half['posteam'] == 'SEA']\n",
        "sea_second_half = second_half.loc[second_half['posteam'] == 'SEA']"
      ],
      "metadata": {
        "id": "uAZ_ua2QxAFM"
      },
      "execution_count": null,
      "outputs": []
    },
    {
      "cell_type": "code",
      "source": [
        "half1_shotgun = sea_first_half.loc[(sea_first_half['shotgun'] == 1.0) & (sea_first_half['play_type'] == 'pass') & (sea_first_half['passer'] == 'G.Smith') & (sea_first_half['incomplete_pass'] == 0.0)\n",
        "                    , ['play_id', 'ydstogo', 'yards_gained','receiver_player_name', 'receiving_yards']]\n",
        "\n",
        "half2_shotgun = sea_second_half.loc[(sea_second_half['shotgun'] == 1.0) & (sea_second_half['play_type'] == 'pass') & (sea_second_half['passer'] == 'G.Smith') & (sea_second_half['incomplete_pass'] == 0.0)\n",
        "                    , ['play_id', 'ydstogo', 'yards_gained','receiver_player_name', 'receiving_yards']]"
      ],
      "metadata": {
        "id": "ZgLi_xok0xJs"
      },
      "execution_count": null,
      "outputs": []
    },
    {
      "cell_type": "code",
      "source": [
        "#renaming columns (practice)\n",
        "half1_shotgun.rename(columns = {'ydstogo':'yds_to_go'}, inplace = True)\n",
        "half2_shotgun.rename(columns = {'yds_to-go':'yds_to_go'}, inplace = True)\n"
      ],
      "metadata": {
        "id": "dQiVVOd05Jee"
      },
      "execution_count": null,
      "outputs": []
    },
    {
      "cell_type": "code",
      "source": [
        "#function practice\n",
        "def receiver_upper(wr):\n",
        "  if wr is not None:\n",
        "    return wr.upper()\n",
        "  else:\n",
        "    return None\n",
        "\n",
        "half1_shotgun['receiver_player_name'] = half1_shotgun['receiver_player_name'].apply(receiver_upper)\n"
      ],
      "metadata": {
        "id": "KezqKpJa5rkD"
      },
      "execution_count": null,
      "outputs": []
    },
    {
      "cell_type": "code",
      "source": [
        "#average yards gained in Shotgun pass for Geno in first half\n",
        "half1_shotgun['yards_gained'].mean()\n"
      ],
      "metadata": {
        "colab": {
          "base_uri": "https://localhost:8080/"
        },
        "id": "O602bV1_1yN2",
        "outputId": "2bb114d4-0426-468c-a542-191c1fbe430f"
      },
      "execution_count": null,
      "outputs": [
        {
          "output_type": "execute_result",
          "data": {
            "text/plain": [
              "9.083333"
            ]
          },
          "metadata": {},
          "execution_count": 76
        }
      ]
    },
    {
      "cell_type": "code",
      "source": [
        "#average yards gained in Shotgun pass for Geno in second half\n",
        "half2_shotgun['yards_gained'].mean()"
      ],
      "metadata": {
        "colab": {
          "base_uri": "https://localhost:8080/"
        },
        "id": "RCGOvrqW4P7I",
        "outputId": "a9aab4e3-2cb9-4de8-ed4e-5766574bf74d"
      },
      "execution_count": null,
      "outputs": [
        {
          "output_type": "execute_result",
          "data": {
            "text/plain": [
              "11.4"
            ]
          },
          "metadata": {},
          "execution_count": 75
        }
      ]
    }
  ]
}
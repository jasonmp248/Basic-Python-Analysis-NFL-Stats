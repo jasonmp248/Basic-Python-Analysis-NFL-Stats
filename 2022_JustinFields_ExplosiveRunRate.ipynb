{
  "nbformat": 4,
  "nbformat_minor": 0,
  "metadata": {
    "colab": {
      "provenance": [],
      "authorship_tag": "ABX9TyO3Rt3u8vjFCV+6wBsR5nx2",
      "include_colab_link": true
    },
    "kernelspec": {
      "name": "python3",
      "display_name": "Python 3"
    },
    "language_info": {
      "name": "python"
    }
  },
  "cells": [
    {
      "cell_type": "markdown",
      "metadata": {
        "id": "view-in-github",
        "colab_type": "text"
      },
      "source": [
        "<a href=\"https://colab.research.google.com/github/jasxn808/Basic-Python-Analysis-NFL-Stats/blob/main/2022_JustinFields_ExplosiveRunRate.ipynb\" target=\"_parent\"><img src=\"https://colab.research.google.com/assets/colab-badge.svg\" alt=\"Open In Colab\"/></a>"
      ]
    },
    {
      "cell_type": "code",
      "execution_count": null,
      "metadata": {
        "id": "r_2F1_qTOOrC"
      },
      "outputs": [],
      "source": [
        "pip install nfl_data_py"
      ]
    },
    {
      "cell_type": "code",
      "source": [
        "#2022 Justin Fields Explosive Run Rate by offense_personnel\n",
        "#explosive run = any run > 10 yards gained\n",
        "\n",
        "import pandas as pd\n",
        "import nfl_data_py as nfl\n",
        "from matplotlib import pyplot as plt\n",
        "\n",
        "pd.set_option('display.max_columns', None)\n",
        "df = nfl.import_pbp_data([2022])"
      ],
      "metadata": {
        "colab": {
          "base_uri": "https://localhost:8080/"
        },
        "id": "TSoTg7bWOU4w",
        "outputId": "d9352a58-e32f-4934-894b-da50d23a33fa"
      },
      "execution_count": 2,
      "outputs": [
        {
          "output_type": "stream",
          "name": "stdout",
          "text": [
            "2022 done.\n",
            "Downcasting floats.\n"
          ]
        }
      ]
    },
    {
      "cell_type": "code",
      "source": [
        "#list(df.columns)\n",
        "##columns needed:\n",
        "#rushing_yards, play_type == run, rusher_player_name, offense_personnel"
      ],
      "metadata": {
        "id": "xOGSc_0XOis-"
      },
      "execution_count": 3,
      "outputs": []
    },
    {
      "cell_type": "code",
      "source": [
        "all_runs = df.query('rusher_player_name == \"J.Fields\"')\n",
        "all_runs = all_runs.loc[:, ['rusher_player_name', 'rushing_yards', 'offense_personnel']]\n",
        "\n",
        "qual_runs = df.query('rusher_player_name == \"J.Fields\" & rushing_yards >= 10')\n",
        "qual_runs = qual_runs.loc[:, ['rusher_player_name', 'rushing_yards', 'offense_personnel']]"
      ],
      "metadata": {
        "id": "drC1EbccXExk"
      },
      "execution_count": 4,
      "outputs": []
    },
    {
      "cell_type": "code",
      "source": [
        "total_min = all_runs['rushing_yards'].min()\n",
        "qual_runs_min = qual_runs['rushing_yards'].min()"
      ],
      "metadata": {
        "id": "oAJu7bwFaeFx"
      },
      "execution_count": 5,
      "outputs": []
    },
    {
      "cell_type": "code",
      "source": [
        " all_runs_grp = all_runs.groupby(['offense_personnel'])\n",
        " qual_runs_grp = qual_runs.groupby(['offense_personnel'])"
      ],
      "metadata": {
        "id": "rlhg0rRlRcNw"
      },
      "execution_count": 6,
      "outputs": []
    },
    {
      "cell_type": "code",
      "source": [
        "#count of all J Fields rush attempts, grouped by offense_personnel\n",
        "sum_attempts = all_runs_grp['rushing_yards'].apply(lambda x: (x >= total_min).sum())\n",
        "#count of all J Fields explosive runs, grouped by offense_personnel\n",
        "expl_runs = qual_runs_grp['rushing_yards'].apply(lambda x: (x >= qual_runs_min).sum())"
      ],
      "metadata": {
        "id": "4wbneBaIaZ3j"
      },
      "execution_count": 7,
      "outputs": []
    },
    {
      "cell_type": "code",
      "source": [
        "rushing_df = pd.concat([sum_attempts, expl_runs], axis='columns')\n",
        "\n",
        "rushing_df.columns = ['total_attempts', 'expl_runs']\n",
        "\n",
        "rushing_df = rushing_df.fillna(0)\n",
        "\n"
      ],
      "metadata": {
        "id": "OseNat53bqyM"
      },
      "execution_count": 8,
      "outputs": []
    },
    {
      "cell_type": "code",
      "source": [
        "rushing_df['expl_rate'] = (rushing_df['expl_runs'] / rushing_df['total_attempts']) * 100\n",
        "rushing_df.sort_values('expl_rate', ascending=False, inplace=True)"
      ],
      "metadata": {
        "id": "iVY2LFl4WSYu"
      },
      "execution_count": 9,
      "outputs": []
    },
    {
      "cell_type": "code",
      "source": [
        "plt.style.use('seaborn')\n",
        "\n",
        "rushing_fig = \\\n",
        "rushing_df.reset_index()\n",
        "\n",
        "rushing_fig = rushing_fig.iloc[::-1]\n",
        "\n",
        "x_ax = rushing_fig['offense_personnel']\n",
        "y_ax = rushing_fig['expl_rate']\n",
        "\n",
        "plt.title('J.Fields Explosive Rush Rate by Formation')\n",
        "plt.xlabel('Explosive Rush Rate Percentage')\n",
        "\n",
        "plt.barh(x_ax, y_ax)\n"
      ],
      "metadata": {
        "colab": {
          "base_uri": "https://localhost:8080/",
          "height": 618
        },
        "id": "wHUqWOYwP-og",
        "outputId": "f6d1a06d-7129-4e38-a074-3c6bc68cec0d"
      },
      "execution_count": 39,
      "outputs": [
        {
          "output_type": "stream",
          "name": "stderr",
          "text": [
            "<ipython-input-39-efcddaaa67e6>:1: MatplotlibDeprecationWarning: The seaborn styles shipped by Matplotlib are deprecated since 3.6, as they no longer correspond to the styles shipped by seaborn. However, they will remain available as 'seaborn-v0_8-<style>'. Alternatively, directly use the seaborn API instead.\n",
            "  plt.style.use('seaborn')\n"
          ]
        },
        {
          "output_type": "execute_result",
          "data": {
            "text/plain": [
              "<BarContainer object of 7 artists>"
            ]
          },
          "metadata": {},
          "execution_count": 39
        },
        {
          "output_type": "display_data",
          "data": {
            "text/plain": [
              "<Figure size 800x550 with 1 Axes>"
            ],
            "image/png": "[encoded data removed]"
          },
          "metadata": {}
        }
      ]
    }
  ]
}
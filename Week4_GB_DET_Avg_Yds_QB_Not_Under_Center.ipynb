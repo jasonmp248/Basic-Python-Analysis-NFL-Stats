{
  "nbformat": 4,
  "nbformat_minor": 0,
  "metadata": {
    "colab": {
      "provenance": [],
      "authorship_tag": "ABX9TyPaU3e3aZqOIgqLXPIR69vD",
      "include_colab_link": true
    },
    "kernelspec": {
      "name": "python3",
      "display_name": "Python 3"
    },
    "language_info": {
      "name": "python"
    }
  },
  "cells": [
    {
      "cell_type": "markdown",
      "metadata": {
        "id": "view-in-github",
        "colab_type": "text"
      },
      "source": [
        "<a href=\"https://colab.research.google.com/github/jasonmp248/Week4GBvsDET/blob/main/Week4_GB_DET_Avg_Yds_QB_Not_Under_Center.ipynb\" target=\"_parent\"><img src=\"https://colab.research.google.com/assets/colab-badge.svg\" alt=\"Open In Colab\"/></a>"
      ]
    },
    {
      "cell_type": "code",
      "execution_count": null,
      "metadata": {
        "id": "Ku4yGAVM_tzy"
      },
      "outputs": [],
      "source": [
        "pip install nfl_data_py"
      ]
    },
    {
      "cell_type": "code",
      "source": [
        "import nfl_data_py as nfl\n",
        "import pandas as pd"
      ],
      "metadata": {
        "id": "q1LkXHp4_vH9"
      },
      "execution_count": 2,
      "outputs": []
    },
    {
      "cell_type": "code",
      "source": [
        "df = nfl.import_pbp_data([2023])\n",
        "df"
      ],
      "metadata": {
        "id": "kOiFK_6V_zg8"
      },
      "execution_count": null,
      "outputs": []
    },
    {
      "cell_type": "code",
      "source": [
        "filt = df['game_id'] == '2023_04_DET_GB'\n",
        "# week4_gb_det = df.loc[filt]\n",
        "# week4_gb_det\n",
        "# not_week4_gb_det = df.loc[-filt]\n",
        "# not_week4_gb_det\n",
        "\n",
        "week4_gb_det = df.loc[df['game_id'] == '2023_04_DET_GB']\n",
        "week4_gb_det"
      ],
      "metadata": {
        "id": "wpV4a-up_2Uc"
      },
      "execution_count": null,
      "outputs": []
    },
    {
      "cell_type": "code",
      "source": [
        "## all plays where offensive formation = SINGLEBACK\n",
        "#week4_gb_det.loc[week4_gb_det['offense_formation'] == 'SINGLEBACK']\n",
        "\n",
        "## all plays where offense_personnel = 1 RB, 2 TE, 2 WR\tand offense_formation = SINGLEBACK OR offense_formation = SHOTGUN\n",
        "#week4_gb_det.loc[(week4_gb_det['offense_personnel'] == '1 RB, 2 TE, 2 WR') & (week4_gb_det['offense_formation'] == 'SINGLEBACK') | (week4_gb_det['offense_formation'] == 'SHOTGUN')]\n",
        "\n",
        "## all plays where offense_personnel = 1 RB, 2 TE, 2 WR\tand offense_formation = SINGLEBACK OR offense_formation = SHOTGUN ;  rows from play_id -> home_team\n",
        "#week4_gb_det.loc[(week4_gb_det['offense_personnel'] == '1 RB, 2 TE, 2 WR') & (week4_gb_det['offense_formation'] == 'SINGLEBACK') | (week4_gb_det['offense_formation'] == 'SHOTGUN'), 'play_id' : 'home_team']\n",
        "\n",
        "\n",
        "## all plays where offense_personnel = 1 RB, 2 TE, 2 WR\tand offense_formation = SINGLEBACK OR offense_formation = SHOTGUN ;  grabbing these rows: play_id, off_pers, def in box, def_personnel\n",
        "off_vs_def = week4_gb_det.loc[(week4_gb_det['offense_personnel'] == '1 RB, 2 TE, 2 WR') & (week4_gb_det['offense_formation'] == 'SINGLEBACK') | (week4_gb_det['offense_formation'] == 'SHOTGUN'), ['play_id', 'offense_personnel', 'defenders_in_box', 'defense_personnel']]"
      ],
      "metadata": {
        "id": "ILM-zcgtADf9"
      },
      "execution_count": 42,
      "outputs": []
    },
    {
      "cell_type": "code",
      "source": [
        "off_vs_def"
      ],
      "metadata": {
        "id": "Z4Fwe6ILBUbX"
      },
      "execution_count": null,
      "outputs": []
    },
    {
      "cell_type": "code",
      "source": [
        "## SELECT DISTINCT OFFENSE_FORMATION\n",
        "week4_gb_det['offense_formation'].value_counts()"
      ],
      "metadata": {
        "id": "ORNWJCdHDmrP"
      },
      "execution_count": null,
      "outputs": []
    },
    {
      "cell_type": "code",
      "source": [
        "## offensive formations where QB <> under center\n",
        "not_under_center = ['SHOTGUN', 'PISTOL', 'EMPTY']\n",
        "\n",
        "## grab all plays where QB was not considered under center; for columns offense_vs_def\n",
        "qb_not_under_center = week4_gb_det.loc[week4_gb_det['offense_formation'].isin(not_under_center), ['play_id', 'offense_personnel', 'defenders_in_box', 'defense_personnel', 'yards_gained']]"
      ],
      "metadata": {
        "id": "Htcg913bE9OA"
      },
      "execution_count": 84,
      "outputs": []
    },
    {
      "cell_type": "code",
      "source": [
        "#qb_not_under_center"
      ],
      "metadata": {
        "id": "VgPjrDILFTCp"
      },
      "execution_count": null,
      "outputs": []
    },
    {
      "cell_type": "code",
      "source": [
        "# filtering within Strings\n",
        "## finding all plays where offense_personnel featured 2 RBs in formation\n",
        "\n",
        "#week4_gb_det['offense_personnel'].value_counts()\n",
        "#week4_gb_det['offense_personnel']\n",
        "\n",
        "\n",
        "## see if 2 RB is within String of offense_personnel\n",
        "\n",
        "#filt = week4_gb_det['offense_personnel'].str.contains('2 RB', na=False)    #na=False is required for masking, or else error will be thrown\n",
        "#week4_gb_det.loc[filt]\n",
        "## (all plays with that don't feature 2RBs in formation)\n",
        "#week4_gb_det.loc[-filt]\n",
        "\n",
        "week4_gb_det.loc[week4_gb_det['offense_personnel'].str.contains('2 RB', na=False)]"
      ],
      "metadata": {
        "id": "607ayrAWF0sI"
      },
      "execution_count": null,
      "outputs": []
    },
    {
      "cell_type": "code",
      "source": [
        "## seeing all columns in dataframe\n",
        "pd.set_option('display.max_columns', None)\n",
        "week4_gb_det #yards_gained , shotgun , game_half"
      ],
      "metadata": {
        "id": "OJte8kh7GDHp"
      },
      "execution_count": null,
      "outputs": []
    },
    {
      "cell_type": "code",
      "source": [
        "qb_not_under_center\n",
        "\n",
        "##average net yards for plays where qb was not under center, either run or pass play:\n",
        "avg_net_yards = qb_not_under_center['yards_gained'].mean()\n",
        "avg_net_yards"
      ],
      "metadata": {
        "colab": {
          "base_uri": "https://localhost:8080/"
        },
        "id": "9gA89jpuIn7V",
        "outputId": "bf842dcc-9533-4700-8dad-342194d85b02"
      },
      "execution_count": 91,
      "outputs": [
        {
          "output_type": "execute_result",
          "data": {
            "text/plain": [
              "5.0116277"
            ]
          },
          "metadata": {},
          "execution_count": 91
        }
      ]
    },
    {
      "cell_type": "code",
      "source": [
        "'''\n",
        "Things I need to do next time:\n",
        "-understand my data -> look at what columns Im pulling in first\n",
        "  ->>> could've filtered on plays where SHOTGUN flag = 1 instead of assumption\n",
        "- avg play on above analysis = 5.01\n",
        "  ->>> for what team? GB or DET?\n",
        "- first half/second half filtering\n",
        "'''"
      ],
      "metadata": {
        "id": "Od-Xy8vPJF7u"
      },
      "execution_count": null,
      "outputs": []
    }
  ]
}
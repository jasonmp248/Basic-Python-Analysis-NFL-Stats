{
  "nbformat": 4,
  "nbformat_minor": 0,
  "metadata": {
    "colab": {
      "provenance": [],
      "authorship_tag": "ABX9TyMTdkkYdxJDGONWgrQWOt+3",
      "include_colab_link": true
    },
    "kernelspec": {
      "name": "python3",
      "display_name": "Python 3"
    },
    "language_info": {
      "name": "python"
    }
  },
  "cells": [
    {
      "cell_type": "markdown",
      "metadata": {
        "id": "view-in-github",
        "colab_type": "text"
      },
      "source": [
        "<a href=\"https://colab.research.google.com/github/jasxn808/Basic-Python-Analysis-NFL-Stats/blob/main/QB_EPA_3year.ipynb\" target=\"_parent\"><img src=\"https://colab.research.google.com/assets/colab-badge.svg\" alt=\"Open In Colab\"/></a>"
      ]
    },
    {
      "cell_type": "code",
      "execution_count": null,
      "metadata": {
        "id": "Iy6d2TRdTT5Y"
      },
      "outputs": [],
      "source": [
        "pip install nfl_data_py"
      ]
    },
    {
      "cell_type": "code",
      "source": [
        "import pandas as pd\n",
        "import nfl_data_py as nfl\n",
        "from matplotlib import pyplot as plt\n",
        "import numpy as np\n",
        "\n",
        "pd.set_option('display.max_columns', None)\n",
        "seasons = range(2020, 2022+1)\n",
        "\n",
        "#['epa']\n",
        "df = nfl.import_pbp_data(seasons)"
      ],
      "metadata": {
        "colab": {
          "base_uri": "https://localhost:8080/"
        },
        "id": "FaqI4OdMTWJr",
        "outputId": "c22ea639-3262-445a-e235-cd893e9c1ff2"
      },
      "execution_count": 5,
      "outputs": [
        {
          "output_type": "stream",
          "name": "stdout",
          "text": [
            "2020 done.\n",
            "2021 done.\n",
            "2022 done.\n",
            "Downcasting floats.\n"
          ]
        }
      ]
    },
    {
      "cell_type": "code",
      "source": [
        "\n",
        "df_pass = \\\n",
        "  df.query('passer_id.notnull() & play_type == \"pass\"')[['passer_id', 'passer_player_name', 'epa', 'season']]\n",
        "\n",
        "\n",
        "\n",
        "df_agg = \\\n",
        "  df_pass\\\n",
        "    .groupby(['passer_id', 'passer_player_name', 'season'])\\\n",
        "    .agg({'epa':['mean', 'count']})\n",
        "\n",
        "\n",
        "\n",
        "df_agg.columns = list(map('_'.join, df_agg.columns))\n",
        "\n",
        "df_agg.reset_index(inplace=True)\n",
        "\n",
        "df_agg.rename(columns={'epa_count':'n'}, inplace=True)\n",
        "\n",
        "df_agg = \\\n",
        "  df_agg.query('n > 100')\n",
        "\n",
        "# df_agg['numb_seasons'] = \\\n",
        "#   df_agg.sort_values('season', ascending=True)\\\n",
        "#   .groupby(['passer_id','passer_player_name'])\\\n",
        "#   .cumcount() + 1\n",
        "\n"
      ],
      "metadata": {
        "id": "KsfbaRLNUGsi"
      },
      "execution_count": 14,
      "outputs": []
    },
    {
      "cell_type": "code",
      "source": [
        "df_agg_filter = \\\n",
        "df_agg\\\n",
        "  .groupby(['passer_id', 'passer_player_name'])\\\n",
        "  .filter(lambda x: len(x) > 2)\n",
        "\n",
        "\n",
        "df_2020 = \\\n",
        "  df_agg_filter.query('season == 2020')\n",
        "\n",
        "df_2021 = \\\n",
        "  df_agg_filter.query('season == 2021')\n",
        "\n",
        "df_2022 = \\\n",
        "  df_agg_filter.query('season == 2022')\n",
        "\n",
        "\n",
        "# qbs=[]\n",
        "# for qb in df_agg_filter['passer_player_name']:\n",
        "#   qbs.append(qb)\n",
        "\n",
        "# epa=[]\n",
        "# epa.append(df_agg_filter['epa_mean'])\n",
        "\n",
        "pd.set_option('display.max_rows', None)\n"
      ],
      "metadata": {
        "colab": {
          "base_uri": "https://localhost:8080/"
        },
        "id": "muaZol-cD0GA",
        "outputId": "bcd9d0f1-f564-40fc-8767-c2d21e86dedd"
      },
      "execution_count": 97,
      "outputs": [
        {
          "output_type": "stream",
          "name": "stdout",
          "text": [
            "24\n"
          ]
        }
      ]
    },
    {
      "cell_type": "code",
      "source": [
        "plt.style.use('fivethirtyeight')\n",
        "width = 0.25\n",
        "\n",
        "x_indexes = np.arange(len(df_2020))\n",
        "\n",
        "\n",
        "plt.bar(x_indexes - width, df_2020['epa_mean'], width=width, label='2020')\n",
        "plt.bar(x_indexes, df_2021['epa_mean'], width=width, label='2021')\n",
        "plt.bar(x_indexes + width, df_2022['epa_mean'], width=width, label='2022')\n",
        "\n",
        "plt.legend()\n",
        "plt.title('QB Avg EPA over 3 year Span')\n",
        "plt.ylabel('QB EPA')\n",
        "#plt.xticks(ticks=x_indexes, labels=df_2020['passer_player_name'])\n"
      ],
      "metadata": {
        "id": "5jbJeuNTei9l",
        "colab": {
          "base_uri": "https://localhost:8080/",
          "height": 496
        },
        "outputId": "c46ba4ad-22c1-476c-d14c-b955c12c62a8"
      },
      "execution_count": 108,
      "outputs": [
        {
          "output_type": "execute_result",
          "data": {
            "text/plain": [
              "Text(0, 0.5, 'QB EPA')"
            ]
          },
          "metadata": {},
          "execution_count": 108
        },
        {
          "output_type": "display_data",
          "data": {
            "text/plain": [
              "<Figure size 640x480 with 1 Axes>"
            ],
            "image/png": "[encoded data removed]"
          },
          "metadata": {}
        }
      ]
    }
  ]
}